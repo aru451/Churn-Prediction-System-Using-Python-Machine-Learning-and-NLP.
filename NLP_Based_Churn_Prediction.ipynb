{
  "nbformat": 4,
  "nbformat_minor": 0,
  "metadata": {
    "colab": {
      "provenance": []
    },
    "kernelspec": {
      "name": "python3",
      "display_name": "Python 3"
    },
    "language_info": {
      "name": "python"
    }
  },
  "cells": [
    {
      "cell_type": "markdown",
      "source": [
        "# Churn Prediction Model on Amazon dataset\n",
        "\n",
        "## Dataset Exploration And Preparation"
      ],
      "metadata": {
        "id": "sb1aGxxmG4XE"
      }
    },
    {
      "cell_type": "code",
      "execution_count": 124,
      "metadata": {
        "id": "wVc69sChG3Jc"
      },
      "outputs": [],
      "source": [
        "import numpy as np\n",
        "import pandas as pd\n",
        "import matplotlib.pyplot as plt\n",
        "import seaborn as sns\n",
        "import scipy as sp"
      ]
    },
    {
      "cell_type": "code",
      "source": [
        "df = pd.read_csv('/content/Amazon.csv')"
      ],
      "metadata": {
        "id": "-GKSHHWuHGZk"
      },
      "execution_count": 125,
      "outputs": []
    },
    {
      "cell_type": "code",
      "source": [
        "df.shape"
      ],
      "metadata": {
        "colab": {
          "base_uri": "https://localhost:8080/"
        },
        "id": "5DxCnYPTHM4i",
        "outputId": "40be7f68-faac-4e3f-a6e3-7cd326aa6b4f"
      },
      "execution_count": 126,
      "outputs": [
        {
          "output_type": "execute_result",
          "data": {
            "text/plain": [
              "(4883, 14)"
            ]
          },
          "metadata": {},
          "execution_count": 126
        }
      ]
    },
    {
      "cell_type": "code",
      "source": [
        "df.isnull().sum()"
      ],
      "metadata": {
        "colab": {
          "base_uri": "https://localhost:8080/",
          "height": 523
        },
        "id": "klXFg5pkHUAb",
        "outputId": "8004393f-b9e6-4482-ac82-e75d3d45f66c"
      },
      "execution_count": 127,
      "outputs": [
        {
          "output_type": "execute_result",
          "data": {
            "text/plain": [
              "product_id              0\n",
              "product_name            0\n",
              "Major Category          0\n",
              "Sub Category            0\n",
              "discounted_price        0\n",
              "actual_price            0\n",
              "discount_percentage     0\n",
              "user_id                 0\n",
              "user_name               0\n",
              "review_id               0\n",
              "review_title            6\n",
              "review_content         99\n",
              "rating                  0\n",
              "rating_count            1\n",
              "dtype: int64"
            ],
            "text/html": [
              "<div>\n",
              "<style scoped>\n",
              "    .dataframe tbody tr th:only-of-type {\n",
              "        vertical-align: middle;\n",
              "    }\n",
              "\n",
              "    .dataframe tbody tr th {\n",
              "        vertical-align: top;\n",
              "    }\n",
              "\n",
              "    .dataframe thead th {\n",
              "        text-align: right;\n",
              "    }\n",
              "</style>\n",
              "<table border=\"1\" class=\"dataframe\">\n",
              "  <thead>\n",
              "    <tr style=\"text-align: right;\">\n",
              "      <th></th>\n",
              "      <th>0</th>\n",
              "    </tr>\n",
              "  </thead>\n",
              "  <tbody>\n",
              "    <tr>\n",
              "      <th>product_id</th>\n",
              "      <td>0</td>\n",
              "    </tr>\n",
              "    <tr>\n",
              "      <th>product_name</th>\n",
              "      <td>0</td>\n",
              "    </tr>\n",
              "    <tr>\n",
              "      <th>Major Category</th>\n",
              "      <td>0</td>\n",
              "    </tr>\n",
              "    <tr>\n",
              "      <th>Sub Category</th>\n",
              "      <td>0</td>\n",
              "    </tr>\n",
              "    <tr>\n",
              "      <th>discounted_price</th>\n",
              "      <td>0</td>\n",
              "    </tr>\n",
              "    <tr>\n",
              "      <th>actual_price</th>\n",
              "      <td>0</td>\n",
              "    </tr>\n",
              "    <tr>\n",
              "      <th>discount_percentage</th>\n",
              "      <td>0</td>\n",
              "    </tr>\n",
              "    <tr>\n",
              "      <th>user_id</th>\n",
              "      <td>0</td>\n",
              "    </tr>\n",
              "    <tr>\n",
              "      <th>user_name</th>\n",
              "      <td>0</td>\n",
              "    </tr>\n",
              "    <tr>\n",
              "      <th>review_id</th>\n",
              "      <td>0</td>\n",
              "    </tr>\n",
              "    <tr>\n",
              "      <th>review_title</th>\n",
              "      <td>6</td>\n",
              "    </tr>\n",
              "    <tr>\n",
              "      <th>review_content</th>\n",
              "      <td>99</td>\n",
              "    </tr>\n",
              "    <tr>\n",
              "      <th>rating</th>\n",
              "      <td>0</td>\n",
              "    </tr>\n",
              "    <tr>\n",
              "      <th>rating_count</th>\n",
              "      <td>1</td>\n",
              "    </tr>\n",
              "  </tbody>\n",
              "</table>\n",
              "</div><br><label><b>dtype:</b> int64</label>"
            ]
          },
          "metadata": {},
          "execution_count": 127
        }
      ]
    },
    {
      "cell_type": "code",
      "source": [
        "#dropping null rating count, review content, review title rows\n",
        "df = df.dropna(subset=['rating_count','review_content', 'review_title'])\n",
        "df.isnull().sum()"
      ],
      "metadata": {
        "colab": {
          "base_uri": "https://localhost:8080/",
          "height": 523
        },
        "id": "eGIX0HOmHbol",
        "outputId": "6ce80c2a-e7e2-40ec-97e2-e1fa29877c13"
      },
      "execution_count": 128,
      "outputs": [
        {
          "output_type": "execute_result",
          "data": {
            "text/plain": [
              "product_id             0\n",
              "product_name           0\n",
              "Major Category         0\n",
              "Sub Category           0\n",
              "discounted_price       0\n",
              "actual_price           0\n",
              "discount_percentage    0\n",
              "user_id                0\n",
              "user_name              0\n",
              "review_id              0\n",
              "review_title           0\n",
              "review_content         0\n",
              "rating                 0\n",
              "rating_count           0\n",
              "dtype: int64"
            ],
            "text/html": [
              "<div>\n",
              "<style scoped>\n",
              "    .dataframe tbody tr th:only-of-type {\n",
              "        vertical-align: middle;\n",
              "    }\n",
              "\n",
              "    .dataframe tbody tr th {\n",
              "        vertical-align: top;\n",
              "    }\n",
              "\n",
              "    .dataframe thead th {\n",
              "        text-align: right;\n",
              "    }\n",
              "</style>\n",
              "<table border=\"1\" class=\"dataframe\">\n",
              "  <thead>\n",
              "    <tr style=\"text-align: right;\">\n",
              "      <th></th>\n",
              "      <th>0</th>\n",
              "    </tr>\n",
              "  </thead>\n",
              "  <tbody>\n",
              "    <tr>\n",
              "      <th>product_id</th>\n",
              "      <td>0</td>\n",
              "    </tr>\n",
              "    <tr>\n",
              "      <th>product_name</th>\n",
              "      <td>0</td>\n",
              "    </tr>\n",
              "    <tr>\n",
              "      <th>Major Category</th>\n",
              "      <td>0</td>\n",
              "    </tr>\n",
              "    <tr>\n",
              "      <th>Sub Category</th>\n",
              "      <td>0</td>\n",
              "    </tr>\n",
              "    <tr>\n",
              "      <th>discounted_price</th>\n",
              "      <td>0</td>\n",
              "    </tr>\n",
              "    <tr>\n",
              "      <th>actual_price</th>\n",
              "      <td>0</td>\n",
              "    </tr>\n",
              "    <tr>\n",
              "      <th>discount_percentage</th>\n",
              "      <td>0</td>\n",
              "    </tr>\n",
              "    <tr>\n",
              "      <th>user_id</th>\n",
              "      <td>0</td>\n",
              "    </tr>\n",
              "    <tr>\n",
              "      <th>user_name</th>\n",
              "      <td>0</td>\n",
              "    </tr>\n",
              "    <tr>\n",
              "      <th>review_id</th>\n",
              "      <td>0</td>\n",
              "    </tr>\n",
              "    <tr>\n",
              "      <th>review_title</th>\n",
              "      <td>0</td>\n",
              "    </tr>\n",
              "    <tr>\n",
              "      <th>review_content</th>\n",
              "      <td>0</td>\n",
              "    </tr>\n",
              "    <tr>\n",
              "      <th>rating</th>\n",
              "      <td>0</td>\n",
              "    </tr>\n",
              "    <tr>\n",
              "      <th>rating_count</th>\n",
              "      <td>0</td>\n",
              "    </tr>\n",
              "  </tbody>\n",
              "</table>\n",
              "</div><br><label><b>dtype:</b> int64</label>"
            ]
          },
          "metadata": {},
          "execution_count": 128
        }
      ]
    },
    {
      "cell_type": "code",
      "source": [
        "df.shape"
      ],
      "metadata": {
        "colab": {
          "base_uri": "https://localhost:8080/"
        },
        "id": "YfawyAAIH4kf",
        "outputId": "8bb757c4-279f-4d30-ca91-b2d3a767520b"
      },
      "execution_count": 129,
      "outputs": [
        {
          "output_type": "execute_result",
          "data": {
            "text/plain": [
              "(4777, 14)"
            ]
          },
          "metadata": {},
          "execution_count": 129
        }
      ]
    },
    {
      "cell_type": "code",
      "source": [
        "df.info()"
      ],
      "metadata": {
        "colab": {
          "base_uri": "https://localhost:8080/"
        },
        "id": "MIdzWEkCIEle",
        "outputId": "ad37eba2-58eb-41da-8482-64307a5e0cba"
      },
      "execution_count": 130,
      "outputs": [
        {
          "output_type": "stream",
          "name": "stdout",
          "text": [
            "<class 'pandas.core.frame.DataFrame'>\n",
            "Index: 4777 entries, 0 to 4882\n",
            "Data columns (total 14 columns):\n",
            " #   Column               Non-Null Count  Dtype \n",
            "---  ------               --------------  ----- \n",
            " 0   product_id           4777 non-null   object\n",
            " 1   product_name         4777 non-null   object\n",
            " 2   Major Category       4777 non-null   object\n",
            " 3   Sub Category         4777 non-null   object\n",
            " 4   discounted_price     4777 non-null   object\n",
            " 5   actual_price         4777 non-null   object\n",
            " 6   discount_percentage  4777 non-null   object\n",
            " 7   user_id              4777 non-null   object\n",
            " 8   user_name            4777 non-null   object\n",
            " 9   review_id            4777 non-null   object\n",
            " 10  review_title         4777 non-null   object\n",
            " 11  review_content       4777 non-null   object\n",
            " 12  rating               4777 non-null   object\n",
            " 13  rating_count         4777 non-null   object\n",
            "dtypes: object(14)\n",
            "memory usage: 559.8+ KB\n"
          ]
        }
      ]
    },
    {
      "cell_type": "code",
      "source": [
        "df['Major Category'].value_counts()"
      ],
      "metadata": {
        "colab": {
          "base_uri": "https://localhost:8080/",
          "height": 397
        },
        "id": "zyU7wpYpI0eM",
        "outputId": "2b57e887-2274-4e4f-8b97-ef039787253f"
      },
      "execution_count": 131,
      "outputs": [
        {
          "output_type": "execute_result",
          "data": {
            "text/plain": [
              "Major Category\n",
              "Electronics              1704\n",
              "Home&Kitchen             1559\n",
              "Computers&Accessories    1372\n",
              "OfficeProducts            112\n",
              "MusicalInstruments         10\n",
              "HomeImprovement            10\n",
              "Toys&Games                  5\n",
              "Health&PersonalCare         3\n",
              "Car&Motorbike               2\n",
              "Name: count, dtype: int64"
            ],
            "text/html": [
              "<div>\n",
              "<style scoped>\n",
              "    .dataframe tbody tr th:only-of-type {\n",
              "        vertical-align: middle;\n",
              "    }\n",
              "\n",
              "    .dataframe tbody tr th {\n",
              "        vertical-align: top;\n",
              "    }\n",
              "\n",
              "    .dataframe thead th {\n",
              "        text-align: right;\n",
              "    }\n",
              "</style>\n",
              "<table border=\"1\" class=\"dataframe\">\n",
              "  <thead>\n",
              "    <tr style=\"text-align: right;\">\n",
              "      <th></th>\n",
              "      <th>count</th>\n",
              "    </tr>\n",
              "    <tr>\n",
              "      <th>Major Category</th>\n",
              "      <th></th>\n",
              "    </tr>\n",
              "  </thead>\n",
              "  <tbody>\n",
              "    <tr>\n",
              "      <th>Electronics</th>\n",
              "      <td>1704</td>\n",
              "    </tr>\n",
              "    <tr>\n",
              "      <th>Home&amp;Kitchen</th>\n",
              "      <td>1559</td>\n",
              "    </tr>\n",
              "    <tr>\n",
              "      <th>Computers&amp;Accessories</th>\n",
              "      <td>1372</td>\n",
              "    </tr>\n",
              "    <tr>\n",
              "      <th>OfficeProducts</th>\n",
              "      <td>112</td>\n",
              "    </tr>\n",
              "    <tr>\n",
              "      <th>MusicalInstruments</th>\n",
              "      <td>10</td>\n",
              "    </tr>\n",
              "    <tr>\n",
              "      <th>HomeImprovement</th>\n",
              "      <td>10</td>\n",
              "    </tr>\n",
              "    <tr>\n",
              "      <th>Toys&amp;Games</th>\n",
              "      <td>5</td>\n",
              "    </tr>\n",
              "    <tr>\n",
              "      <th>Health&amp;PersonalCare</th>\n",
              "      <td>3</td>\n",
              "    </tr>\n",
              "    <tr>\n",
              "      <th>Car&amp;Motorbike</th>\n",
              "      <td>2</td>\n",
              "    </tr>\n",
              "  </tbody>\n",
              "</table>\n",
              "</div><br><label><b>dtype:</b> int64</label>"
            ]
          },
          "metadata": {},
          "execution_count": 131
        }
      ]
    },
    {
      "cell_type": "code",
      "source": [
        "plt.figure(figsize=(10,5))\n",
        "sns.countplot(df['Major Category'])\n",
        "plt.xticks(rotation=90)\n",
        "plt.show()"
      ],
      "metadata": {
        "colab": {
          "base_uri": "https://localhost:8080/",
          "height": 422
        },
        "id": "KL6C8m7YJzQm",
        "outputId": "cee5be07-de38-46dd-bb12-2bf740b27fc1"
      },
      "execution_count": 132,
      "outputs": [
        {
          "output_type": "display_data",
          "data": {
            "text/plain": [
              "<Figure size 1000x500 with 1 Axes>"
            ],
            "image/png": "[encoded data removed]"
          },
          "metadata": {}
        }
      ]
    },
    {
      "cell_type": "code",
      "source": [
        "df['review_content'].sample(5).iloc[0]"
      ],
      "metadata": {
        "colab": {
          "base_uri": "https://localhost:8080/",
          "height": 35
        },
        "id": "vR9vdXv-K6RQ",
        "outputId": "29004dc5-2639-4775-d362-132e1c6cb7ac"
      },
      "execution_count": 133,
      "outputs": [
        {
          "output_type": "execute_result",
          "data": {
            "text/plain": [
              "'within 1 day they delivered me new one without any cost.Great product  good service.'"
            ],
            "application/vnd.google.colaboratory.intrinsic+json": {
              "type": "string"
            }
          },
          "metadata": {},
          "execution_count": 133
        }
      ]
    },
    {
      "cell_type": "markdown",
      "source": [
        "## Text Preprocessing\n",
        "\n",
        "## Cleaning Data\n",
        "- Removing URLs,\n",
        "- Removing hashtags,\n",
        "- Removing special letters,\n",
        "- Removing punctuations\n",
        "- Removing emoji\n",
        "- Removing stop words\n",
        "- Lemmatization"
      ],
      "metadata": {
        "id": "jG4895-VIrOl"
      }
    },
    {
      "cell_type": "code",
      "source": [
        "df.head(1)"
      ],
      "metadata": {
        "colab": {
          "base_uri": "https://localhost:8080/",
          "height": 170
        },
        "id": "9CtMxxWpDgV9",
        "outputId": "75da808d-1225-46fa-8b41-6002d3a5063f"
      },
      "execution_count": 134,
      "outputs": [
        {
          "output_type": "execute_result",
          "data": {
            "text/plain": [
              "   product_id                                       product_name  \\\n",
              "0  B07JW9H4J1  Wayona Nylon Braided USB to Lightning Fast Cha...   \n",
              "\n",
              "          Major Category Sub Category discounted_price actual_price  \\\n",
              "0  Computers&Accessories    USBCables             ₹399       ₹1,099   \n",
              "\n",
              "  discount_percentage                       user_id     user_name  \\\n",
              "0                 64%  AHMY5CWJMMK5BJRBBSNLYT3ONILA  Adarsh gupta   \n",
              "\n",
              "        review_id             review_title           review_content rating  \\\n",
              "0  R3HXWT0LRP0NMF  Charging is really fast  Charging is really fast    4.2   \n",
              "\n",
              "  rating_count  \n",
              "0       24,269  "
            ],
            "text/html": [
              "\n",
              "  <div id=\"df-c295271c-da91-45d7-a7f8-fb19065f7904\" class=\"colab-df-container\">\n",
              "    <div>\n",
              "<style scoped>\n",
              "    .dataframe tbody tr th:only-of-type {\n",
              "        vertical-align: middle;\n",
              "    }\n",
              "\n",
              "    .dataframe tbody tr th {\n",
              "        vertical-align: top;\n",
              "    }\n",
              "\n",
              "    .dataframe thead th {\n",
              "        text-align: right;\n",
              "    }\n",
              "</style>\n",
              "<table border=\"1\" class=\"dataframe\">\n",
              "  <thead>\n",
              "    <tr style=\"text-align: right;\">\n",
              "      <th></th>\n",
              "      <th>product_id</th>\n",
              "      <th>product_name</th>\n",
              "      <th>Major Category</th>\n",
              "      <th>Sub Category</th>\n",
              "      <th>discounted_price</th>\n",
              "      <th>actual_price</th>\n",
              "      <th>discount_percentage</th>\n",
              "      <th>user_id</th>\n",
              "      <th>user_name</th>\n",
              "      <th>review_id</th>\n",
              "      <th>review_title</th>\n",
              "      <th>review_content</th>\n",
              "      <th>rating</th>\n",
              "      <th>rating_count</th>\n",
              "    </tr>\n",
              "  </thead>\n",
              "  <tbody>\n",
              "    <tr>\n",
              "      <th>0</th>\n",
              "      <td>B07JW9H4J1</td>\n",
              "      <td>Wayona Nylon Braided USB to Lightning Fast Cha...</td>\n",
              "      <td>Computers&amp;Accessories</td>\n",
              "      <td>USBCables</td>\n",
              "      <td>₹399</td>\n",
              "      <td>₹1,099</td>\n",
              "      <td>64%</td>\n",
              "      <td>AHMY5CWJMMK5BJRBBSNLYT3ONILA</td>\n",
              "      <td>Adarsh gupta</td>\n",
              "      <td>R3HXWT0LRP0NMF</td>\n",
              "      <td>Charging is really fast</td>\n",
              "      <td>Charging is really fast</td>\n",
              "      <td>4.2</td>\n",
              "      <td>24,269</td>\n",
              "    </tr>\n",
              "  </tbody>\n",
              "</table>\n",
              "</div>\n",
              "    <div class=\"colab-df-buttons\">\n",
              "\n",
              "  <div class=\"colab-df-container\">\n",
              "    <button class=\"colab-df-convert\" onclick=\"convertToInteractive('df-c295271c-da91-45d7-a7f8-fb19065f7904')\"\n",
              "            title=\"Convert this dataframe to an interactive table.\"\n",
              "            style=\"display:none;\">\n",
              "\n",
              "  <svg xmlns=\"http://www.w3.org/2000/svg\" height=\"24px\" viewBox=\"0 -960 960 960\">\n",
              "    <path d=\"M120-120v-720h720v720H120Zm60-500h600v-160H180v160Zm220 220h160v-160H400v160Zm0 220h160v-160H400v160ZM180-400h160v-160H180v160Zm440 0h160v-160H620v160ZM180-180h160v-160H180v160Zm440 0h160v-160H620v160Z\"/>\n",
              "  </svg>\n",
              "    </button>\n",
              "\n",
              "  <style>\n",
              "    .colab-df-container {\n",
              "      display:flex;\n",
              "      gap: 12px;\n",
              "    }\n",
              "\n",
              "    .colab-df-convert {\n",
              "      background-color: #E8F0FE;\n",
              "      border: none;\n",
              "      border-radius: 50%;\n",
              "      cursor: pointer;\n",
              "      display: none;\n",
              "      fill: #1967D2;\n",
              "      height: 32px;\n",
              "      padding: 0 0 0 0;\n",
              "      width: 32px;\n",
              "    }\n",
              "\n",
              "    .colab-df-convert:hover {\n",
              "      background-color: #E2EBFA;\n",
              "      box-shadow: 0px 1px 2px rgba(60, 64, 67, 0.3), 0px 1px 3px 1px rgba(60, 64, 67, 0.15);\n",
              "      fill: #174EA6;\n",
              "    }\n",
              "\n",
              "    .colab-df-buttons div {\n",
              "      margin-bottom: 4px;\n",
              "    }\n",
              "\n",
              "    [theme=dark] .colab-df-convert {\n",
              "      background-color: #3B4455;\n",
              "      fill: #D2E3FC;\n",
              "    }\n",
              "\n",
              "    [theme=dark] .colab-df-convert:hover {\n",
              "      background-color: #434B5C;\n",
              "      box-shadow: 0px 1px 3px 1px rgba(0, 0, 0, 0.15);\n",
              "      filter: drop-shadow(0px 1px 2px rgba(0, 0, 0, 0.3));\n",
              "      fill: #FFFFFF;\n",
              "    }\n",
              "  </style>\n",
              "\n",
              "    <script>\n",
              "      const buttonEl =\n",
              "        document.querySelector('#df-c295271c-da91-45d7-a7f8-fb19065f7904 button.colab-df-convert');\n",
              "      buttonEl.style.display =\n",
              "        google.colab.kernel.accessAllowed ? 'block' : 'none';\n",
              "\n",
              "      async function convertToInteractive(key) {\n",
              "        const element = document.querySelector('#df-c295271c-da91-45d7-a7f8-fb19065f7904');\n",
              "        const dataTable =\n",
              "          await google.colab.kernel.invokeFunction('convertToInteractive',\n",
              "                                                    [key], {});\n",
              "        if (!dataTable) return;\n",
              "\n",
              "        const docLinkHtml = 'Like what you see? Visit the ' +\n",
              "          '<a target=\"_blank\" href=https://colab.research.google.com/notebooks/data_table.ipynb>data table notebook</a>'\n",
              "          + ' to learn more about interactive tables.';\n",
              "        element.innerHTML = '';\n",
              "        dataTable['output_type'] = 'display_data';\n",
              "        await google.colab.output.renderOutput(dataTable, element);\n",
              "        const docLink = document.createElement('div');\n",
              "        docLink.innerHTML = docLinkHtml;\n",
              "        element.appendChild(docLink);\n",
              "      }\n",
              "    </script>\n",
              "  </div>\n",
              "\n",
              "\n",
              "    </div>\n",
              "  </div>\n"
            ],
            "application/vnd.google.colaboratory.intrinsic+json": {
              "type": "dataframe",
              "variable_name": "df",
              "summary": "{\n  \"name\": \"df\",\n  \"rows\": 4777,\n  \"fields\": [\n    {\n      \"column\": \"product_id\",\n      \"properties\": {\n        \"dtype\": \"category\",\n        \"num_unique_values\": 1328,\n        \"samples\": [\n          \"B07R679HTT\",\n          \"B08RP2L2NL\",\n          \"B08MVSGXMY\"\n        ],\n        \"semantic_type\": \"\",\n        \"description\": \"\"\n      }\n    },\n    {\n      \"column\": \"product_name\",\n      \"properties\": {\n        \"dtype\": \"category\",\n        \"num_unique_values\": 1316,\n        \"samples\": [\n          \"Amkette 30 Pin to USB Charging & Data Sync Cable for iPhone 3G/3GS/4/4s/iPad 1/2/3, iPod Nano 5th/6th Gen and iPod Touch 3rd/4th Gen -1.5m (Black)\",\n          \"SYVO WT 3130 Aluminum Tripod (133CM), Universal Lightweight Tripod with Mobile Phone Holder Mount & Carry Bag for All Smart Phones, Gopro, Cameras - Brown\",\n          \"Tygot Bluetooth Extendable Selfie Sticks with Wireless Remote and Tripod Stand, 3-in-1 Multifunctional Selfie Stick with Tripod Stand Compatible with iPhone/OnePlus/Samsung/Oppo/Vivo and All Phones\"\n        ],\n        \"semantic_type\": \"\",\n        \"description\": \"\"\n      }\n    },\n    {\n      \"column\": \"Major Category\",\n      \"properties\": {\n        \"dtype\": \"category\",\n        \"num_unique_values\": 9,\n        \"samples\": [\n          \"Car&Motorbike\",\n          \"Electronics\",\n          \"HomeImprovement\"\n        ],\n        \"semantic_type\": \"\",\n        \"description\": \"\"\n      }\n    },\n    {\n      \"column\": \"Sub Category\",\n      \"properties\": {\n        \"dtype\": \"category\",\n        \"num_unique_values\": 207,\n        \"samples\": [\n          \"DigitalScales\",\n          \"StreamingClients\",\n          \"RechargeableBatteries\"\n        ],\n        \"semantic_type\": \"\",\n        \"description\": \"\"\n      }\n    },\n    {\n      \"column\": \"discounted_price\",\n      \"properties\": {\n        \"dtype\": \"category\",\n        \"num_unique_values\": 544,\n        \"samples\": [\n          \"\\u20b93,859\",\n          \"\\u20b91,469\",\n          \"\\u20b91,614\"\n        ],\n        \"semantic_type\": \"\",\n        \"description\": \"\"\n      }\n    },\n    {\n      \"column\": \"actual_price\",\n      \"properties\": {\n        \"dtype\": \"category\",\n        \"num_unique_values\": 447,\n        \"samples\": [\n          \"\\u20b91,595\",\n          \"\\u20b91,620\",\n          \"\\u20b9449\"\n        ],\n        \"semantic_type\": \"\",\n        \"description\": \"\"\n      }\n    },\n    {\n      \"column\": \"discount_percentage\",\n      \"properties\": {\n        \"dtype\": \"category\",\n        \"num_unique_values\": 92,\n        \"samples\": [\n          \"86%\",\n          \"25%\",\n          \"26%\"\n        ],\n        \"semantic_type\": \"\",\n        \"description\": \"\"\n      }\n    },\n    {\n      \"column\": \"user_id\",\n      \"properties\": {\n        \"dtype\": \"string\",\n        \"num_unique_values\": 4272,\n        \"samples\": [\n          \"AGGCXXWA7CJVTHA22YE7PTNWQ7NQ\",\n          \"AGVJCBYEOVBLWDFZ42IPRVYU25RQ\",\n          \"AGRLDCPA7VJZZTV4GUIODVQ3DTHA\"\n        ],\n        \"semantic_type\": \"\",\n        \"description\": \"\"\n      }\n    },\n    {\n      \"column\": \"user_name\",\n      \"properties\": {\n        \"dtype\": \"string\",\n        \"num_unique_values\": 3778,\n        \"samples\": [\n          \"Parvathi M.K\",\n          \"Bhatia\",\n          \"Kalyana Manikanta Pasupuleti\"\n        ],\n        \"semantic_type\": \"\",\n        \"description\": \"\"\n      }\n    },\n    {\n      \"column\": \"review_id\",\n      \"properties\": {\n        \"dtype\": \"category\",\n        \"num_unique_values\": 1167,\n        \"samples\": [\n          \"R69FUCBNGBRX1\",\n          \"RGLM8T8GTSTYH\",\n          \"R1BC08IFG4REKS\"\n        ],\n        \"semantic_type\": \"\",\n        \"description\": \"\"\n      }\n    },\n    {\n      \"column\": \"review_title\",\n      \"properties\": {\n        \"dtype\": \"string\",\n        \"num_unique_values\": 3086,\n        \"samples\": [\n          \"BEST\",\n          \"You can go for it.\",\n          \"Ok for music\"\n        ],\n        \"semantic_type\": \"\",\n        \"description\": \"\"\n      }\n    },\n    {\n      \"column\": \"review_content\",\n      \"properties\": {\n        \"dtype\": \"string\",\n        \"num_unique_values\": 3953,\n        \"samples\": [\n          \"This hotel heater is very light weighted and compact in design\",\n          \"good cable quality\",\n          \"I like collecting a lot of stationery from Japanese manufacturers and this was not as good as I expected so I would rather buy a Uni-Ball Air or a Signo or a Sarasa. Not expecting so much compromise from a brand like Pilot\"\n        ],\n        \"semantic_type\": \"\",\n        \"description\": \"\"\n      }\n    },\n    {\n      \"column\": \"rating\",\n      \"properties\": {\n        \"dtype\": \"category\",\n        \"num_unique_values\": 28,\n        \"samples\": [\n          \"3.6\",\n          \"3\",\n          \"3.3\"\n        ],\n        \"semantic_type\": \"\",\n        \"description\": \"\"\n      }\n    },\n    {\n      \"column\": \"rating_count\",\n      \"properties\": {\n        \"dtype\": \"category\",\n        \"num_unique_values\": 1130,\n        \"samples\": [\n          \"20,668\",\n          \"1,811\",\n          \"8,090\"\n        ],\n        \"semantic_type\": \"\",\n        \"description\": \"\"\n      }\n    }\n  ]\n}"
            }
          },
          "metadata": {},
          "execution_count": 134
        }
      ]
    },
    {
      "cell_type": "code",
      "source": [
        "# FEATURE EXTRACTION\n",
        "df[\"review_text\"] = df[\"review_title\"] + \" \" + df[\"review_content\"]"
      ],
      "metadata": {
        "id": "cHkrI14WId97"
      },
      "execution_count": 135,
      "outputs": []
    },
    {
      "cell_type": "code",
      "source": [
        "df.drop(['review_title', 'review_content'], axis=1, inplace=True)"
      ],
      "metadata": {
        "id": "LayrQL9IDw00"
      },
      "execution_count": 136,
      "outputs": []
    },
    {
      "cell_type": "code",
      "source": [
        "!pip install emoji"
      ],
      "metadata": {
        "colab": {
          "base_uri": "https://localhost:8080/"
        },
        "id": "bjoEOgzzFBlV",
        "outputId": "e1183280-d125-42f8-f300-c1043a2ca190"
      },
      "execution_count": 137,
      "outputs": [
        {
          "output_type": "stream",
          "name": "stdout",
          "text": [
            "Requirement already satisfied: emoji in /usr/local/lib/python3.11/dist-packages (2.14.1)\n"
          ]
        }
      ]
    },
    {
      "cell_type": "code",
      "source": [
        "# CLEANING DATA\n",
        "import re\n",
        "import emoji\n",
        "\n",
        "def clean_text(text):\n",
        "    if pd.isnull(text):\n",
        "        return \"\"\n",
        "    text = str(text)\n",
        "    text = re.sub(r'http\\S+|www\\S+|https\\S+', '', text)\n",
        "    text = re.sub(r'#\\w+', '', text)\n",
        "    text = re.sub(r'[^A-Za-z0-9\\s]', '', text)\n",
        "    text = re.sub(r'[^\\w\\s]', '', text)\n",
        "    text = emoji.replace_emoji(text, replace='')\n",
        "    text = text.lower()\n",
        "\n",
        "    text = re.sub(r'\\s+', ' ', text).strip()\n",
        "\n",
        "    return text\n",
        "\n",
        "df['review_text'] = df['review_text'].apply(clean_text)"
      ],
      "metadata": {
        "id": "nLhdp0ClD8rG"
      },
      "execution_count": 138,
      "outputs": []
    },
    {
      "cell_type": "code",
      "source": [
        "# LEMMATIZATION\n",
        "import nltk\n",
        "from nltk.stem import WordNetLemmatizer\n",
        "nltk.download('wordnet')\n",
        "nltk.download('omw-1.4')\n",
        "\n",
        "lemmatizer = WordNetLemmatizer()\n",
        "\n",
        "df['review_text'] = df['review_text'].apply(\n",
        "    lambda x: ' '.join(lemmatizer.lemmatize(word) for word in str(x).split())\n",
        ")"
      ],
      "metadata": {
        "colab": {
          "base_uri": "https://localhost:8080/"
        },
        "id": "K8ta2MK9GR4u",
        "outputId": "0b32419f-f581-42e8-e6ee-8823a29ebaa8"
      },
      "execution_count": 139,
      "outputs": [
        {
          "output_type": "stream",
          "name": "stderr",
          "text": [
            "[nltk_data] Downloading package wordnet to /root/nltk_data...\n",
            "[nltk_data]   Package wordnet is already up-to-date!\n",
            "[nltk_data] Downloading package omw-1.4 to /root/nltk_data...\n",
            "[nltk_data]   Package omw-1.4 is already up-to-date!\n"
          ]
        }
      ]
    },
    {
      "cell_type": "code",
      "source": [
        "df['review_text'].sample(5).values.tolist()"
      ],
      "metadata": {
        "colab": {
          "base_uri": "https://localhost:8080/"
        },
        "id": "BQ52C-0JGGER",
        "outputId": "f3a4a524-53b9-424d-d63a-4333ce13c380"
      },
      "execution_count": 140,
      "outputs": [
        {
          "output_type": "execute_result",
          "data": {
            "text/plain": [
              "['dont buy this good',\n",
              " 'best 4g phone for around 10 500rs it can even beat smartphones upto 15',\n",
              " 'noise the mode in the watch are good the ui suck responsiveness could have been better battery life is moderately upto 34 day if worn constantly colour of the band is a bit faded too',\n",
              " 'good overall good',\n",
              " 'very good']"
            ]
          },
          "metadata": {},
          "execution_count": 140
        }
      ]
    },
    {
      "cell_type": "markdown",
      "source": [
        "### Sentiment Analysis- Churn Label"
      ],
      "metadata": {
        "id": "7Fy1HdliJaQV"
      }
    },
    {
      "cell_type": "code",
      "source": [
        "!pip install vaderSentiment"
      ],
      "metadata": {
        "colab": {
          "base_uri": "https://localhost:8080/"
        },
        "id": "KlmDVghtI1Fj",
        "outputId": "57801492-abdd-4907-bf86-0f23c78bfe16"
      },
      "execution_count": 141,
      "outputs": [
        {
          "output_type": "stream",
          "name": "stdout",
          "text": [
            "Requirement already satisfied: vaderSentiment in /usr/local/lib/python3.11/dist-packages (3.3.2)\n",
            "Requirement already satisfied: requests in /usr/local/lib/python3.11/dist-packages (from vaderSentiment) (2.32.3)\n",
            "Requirement already satisfied: charset-normalizer<4,>=2 in /usr/local/lib/python3.11/dist-packages (from requests->vaderSentiment) (3.4.2)\n",
            "Requirement already satisfied: idna<4,>=2.5 in /usr/local/lib/python3.11/dist-packages (from requests->vaderSentiment) (3.10)\n",
            "Requirement already satisfied: urllib3<3,>=1.21.1 in /usr/local/lib/python3.11/dist-packages (from requests->vaderSentiment) (2.4.0)\n",
            "Requirement already satisfied: certifi>=2017.4.17 in /usr/local/lib/python3.11/dist-packages (from requests->vaderSentiment) (2025.6.15)\n"
          ]
        }
      ]
    },
    {
      "cell_type": "code",
      "source": [
        "from vaderSentiment.vaderSentiment import SentimentIntensityAnalyzer\n",
        "\n",
        "sia = SentimentIntensityAnalyzer()\n",
        "\n",
        "df['sentiment_score'] = df['review_text'].apply(lambda x: sia.polarity_scores(x)['compound'])"
      ],
      "metadata": {
        "id": "qzsB2snyJJCF"
      },
      "execution_count": 142,
      "outputs": []
    },
    {
      "cell_type": "code",
      "source": [
        "def label_churn(score):\n",
        "    if score <= -0.5:\n",
        "      #churned\n",
        "      return 1\n",
        "    else:\n",
        "      #not churned\n",
        "      return 0\n",
        "\n",
        "neg_df = df[df['sentiment_score'] < -0.05].copy()"
      ],
      "metadata": {
        "id": "vIRCl-CiKrl-"
      },
      "execution_count": 143,
      "outputs": []
    },
    {
      "cell_type": "code",
      "source": [
        "df.sample(5)"
      ],
      "metadata": {
        "colab": {
          "base_uri": "https://localhost:8080/",
          "height": 521
        },
        "id": "TxmJmRpXK_au",
        "outputId": "fe6ad091-f3ab-4973-c73c-83ea705c8433"
      },
      "execution_count": 144,
      "outputs": [
        {
          "output_type": "execute_result",
          "data": {
            "text/plain": [
              "      product_id                                       product_name  \\\n",
              "3428  B0814P4L98  PrettyKrafts Laundry Basket for clothes with L...   \n",
              "3135  B00NFD0ETQ  Logitech G402 Hyperion Fury USB Wired Gaming M...   \n",
              "3381  B097R2V1W8  Bajaj Splendora 3 Litre 3KW IWH Instant Water ...   \n",
              "3804  B0B4PPD89B  Kitchenwell 18Pc Plastic Food Snack Bag Pouch ...   \n",
              "3421  B00YMJ0OI8  Prestige PIC 20 1600 Watt Induction Cooktop wi...   \n",
              "\n",
              "             Major Category         Sub Category discounted_price  \\\n",
              "3428           Home&Kitchen       LaundryBaskets             ₹351   \n",
              "3135  Computers&Accessories           GamingMice           ₹1,995   \n",
              "3381           Home&Kitchen  InstantWaterHeaters           ₹2,599   \n",
              "3804           Home&Kitchen        VacuumSealers              ₹79   \n",
              "3421           Home&Kitchen     InductionCooktop           ₹2,148   \n",
              "\n",
              "     actual_price discount_percentage                       user_id  \\\n",
              "3428         ₹999                 65%  AEATZAGPDVY63OECCENTN5XZHNNQ   \n",
              "3135       ₹2,895                 31%  AGFIU57KQ27B2HIIHLNRXEX4LD3A   \n",
              "3381       ₹5,890                 56%  AEZPAJHK366QB5JCBQNS26MJHZKQ   \n",
              "3804          ₹79                  0%  AFEQ7NC66N46VGPPVC2NXFWRCW7A   \n",
              "3421       ₹3,645                 41%  AFY52SCGUVXVGOTEYS4SI2DNI6LA   \n",
              "\n",
              "           user_name       review_id rating rating_count  \\\n",
              "3428  Shruti Didhate  R13P4JW3JTQ20L      4        5,380   \n",
              "3135     parin patel   R2W6BKEVXNT3N    4.6       10,760   \n",
              "3381       Pushp Raj   R3C9QHHIKL25X    4.1       21,783   \n",
              "3804             RDP  R2YLDT44YPDA2G      4           97   \n",
              "3421     Saravana r.  R14ACX2RTXLHYX    4.1       31,388   \n",
              "\n",
              "                                            review_text  sentiment_score  \n",
              "3428                            very useful very useful           0.7684  \n",
              "3135  good mouse good mouse overall price is little ...           0.7003  \n",
              "3381  tiny bomb very nice and working well taking 23...           0.2484  \n",
              "3804                     value for money second quality           0.3400  \n",
              "3421                                     nice easytouse           0.4215  "
            ],
            "text/html": [
              "\n",
              "  <div id=\"df-805527f2-a184-459e-bc6d-71337f846dd2\" class=\"colab-df-container\">\n",
              "    <div>\n",
              "<style scoped>\n",
              "    .dataframe tbody tr th:only-of-type {\n",
              "        vertical-align: middle;\n",
              "    }\n",
              "\n",
              "    .dataframe tbody tr th {\n",
              "        vertical-align: top;\n",
              "    }\n",
              "\n",
              "    .dataframe thead th {\n",
              "        text-align: right;\n",
              "    }\n",
              "</style>\n",
              "<table border=\"1\" class=\"dataframe\">\n",
              "  <thead>\n",
              "    <tr style=\"text-align: right;\">\n",
              "      <th></th>\n",
              "      <th>product_id</th>\n",
              "      <th>product_name</th>\n",
              "      <th>Major Category</th>\n",
              "      <th>Sub Category</th>\n",
              "      <th>discounted_price</th>\n",
              "      <th>actual_price</th>\n",
              "      <th>discount_percentage</th>\n",
              "      <th>user_id</th>\n",
              "      <th>user_name</th>\n",
              "      <th>review_id</th>\n",
              "      <th>rating</th>\n",
              "      <th>rating_count</th>\n",
              "      <th>review_text</th>\n",
              "      <th>sentiment_score</th>\n",
              "    </tr>\n",
              "  </thead>\n",
              "  <tbody>\n",
              "    <tr>\n",
              "      <th>3428</th>\n",
              "      <td>B0814P4L98</td>\n",
              "      <td>PrettyKrafts Laundry Basket for clothes with L...</td>\n",
              "      <td>Home&amp;Kitchen</td>\n",
              "      <td>LaundryBaskets</td>\n",
              "      <td>₹351</td>\n",
              "      <td>₹999</td>\n",
              "      <td>65%</td>\n",
              "      <td>AEATZAGPDVY63OECCENTN5XZHNNQ</td>\n",
              "      <td>Shruti Didhate</td>\n",
              "      <td>R13P4JW3JTQ20L</td>\n",
              "      <td>4</td>\n",
              "      <td>5,380</td>\n",
              "      <td>very useful very useful</td>\n",
              "      <td>0.7684</td>\n",
              "    </tr>\n",
              "    <tr>\n",
              "      <th>3135</th>\n",
              "      <td>B00NFD0ETQ</td>\n",
              "      <td>Logitech G402 Hyperion Fury USB Wired Gaming M...</td>\n",
              "      <td>Computers&amp;Accessories</td>\n",
              "      <td>GamingMice</td>\n",
              "      <td>₹1,995</td>\n",
              "      <td>₹2,895</td>\n",
              "      <td>31%</td>\n",
              "      <td>AGFIU57KQ27B2HIIHLNRXEX4LD3A</td>\n",
              "      <td>parin patel</td>\n",
              "      <td>R2W6BKEVXNT3N</td>\n",
              "      <td>4.6</td>\n",
              "      <td>10,760</td>\n",
              "      <td>good mouse good mouse overall price is little ...</td>\n",
              "      <td>0.7003</td>\n",
              "    </tr>\n",
              "    <tr>\n",
              "      <th>3381</th>\n",
              "      <td>B097R2V1W8</td>\n",
              "      <td>Bajaj Splendora 3 Litre 3KW IWH Instant Water ...</td>\n",
              "      <td>Home&amp;Kitchen</td>\n",
              "      <td>InstantWaterHeaters</td>\n",
              "      <td>₹2,599</td>\n",
              "      <td>₹5,890</td>\n",
              "      <td>56%</td>\n",
              "      <td>AEZPAJHK366QB5JCBQNS26MJHZKQ</td>\n",
              "      <td>Pushp Raj</td>\n",
              "      <td>R3C9QHHIKL25X</td>\n",
              "      <td>4.1</td>\n",
              "      <td>21,783</td>\n",
              "      <td>tiny bomb very nice and working well taking 23...</td>\n",
              "      <td>0.2484</td>\n",
              "    </tr>\n",
              "    <tr>\n",
              "      <th>3804</th>\n",
              "      <td>B0B4PPD89B</td>\n",
              "      <td>Kitchenwell 18Pc Plastic Food Snack Bag Pouch ...</td>\n",
              "      <td>Home&amp;Kitchen</td>\n",
              "      <td>VacuumSealers</td>\n",
              "      <td>₹79</td>\n",
              "      <td>₹79</td>\n",
              "      <td>0%</td>\n",
              "      <td>AFEQ7NC66N46VGPPVC2NXFWRCW7A</td>\n",
              "      <td>RDP</td>\n",
              "      <td>R2YLDT44YPDA2G</td>\n",
              "      <td>4</td>\n",
              "      <td>97</td>\n",
              "      <td>value for money second quality</td>\n",
              "      <td>0.3400</td>\n",
              "    </tr>\n",
              "    <tr>\n",
              "      <th>3421</th>\n",
              "      <td>B00YMJ0OI8</td>\n",
              "      <td>Prestige PIC 20 1600 Watt Induction Cooktop wi...</td>\n",
              "      <td>Home&amp;Kitchen</td>\n",
              "      <td>InductionCooktop</td>\n",
              "      <td>₹2,148</td>\n",
              "      <td>₹3,645</td>\n",
              "      <td>41%</td>\n",
              "      <td>AFY52SCGUVXVGOTEYS4SI2DNI6LA</td>\n",
              "      <td>Saravana r.</td>\n",
              "      <td>R14ACX2RTXLHYX</td>\n",
              "      <td>4.1</td>\n",
              "      <td>31,388</td>\n",
              "      <td>nice easytouse</td>\n",
              "      <td>0.4215</td>\n",
              "    </tr>\n",
              "  </tbody>\n",
              "</table>\n",
              "</div>\n",
              "    <div class=\"colab-df-buttons\">\n",
              "\n",
              "  <div class=\"colab-df-container\">\n",
              "    <button class=\"colab-df-convert\" onclick=\"convertToInteractive('df-805527f2-a184-459e-bc6d-71337f846dd2')\"\n",
              "            title=\"Convert this dataframe to an interactive table.\"\n",
              "            style=\"display:none;\">\n",
              "\n",
              "  <svg xmlns=\"http://www.w3.org/2000/svg\" height=\"24px\" viewBox=\"0 -960 960 960\">\n",
              "    <path d=\"M120-120v-720h720v720H120Zm60-500h600v-160H180v160Zm220 220h160v-160H400v160Zm0 220h160v-160H400v160ZM180-400h160v-160H180v160Zm440 0h160v-160H620v160ZM180-180h160v-160H180v160Zm440 0h160v-160H620v160Z\"/>\n",
              "  </svg>\n",
              "    </button>\n",
              "\n",
              "  <style>\n",
              "    .colab-df-container {\n",
              "      display:flex;\n",
              "      gap: 12px;\n",
              "    }\n",
              "\n",
              "    .colab-df-convert {\n",
              "      background-color: #E8F0FE;\n",
              "      border: none;\n",
              "      border-radius: 50%;\n",
              "      cursor: pointer;\n",
              "      display: none;\n",
              "      fill: #1967D2;\n",
              "      height: 32px;\n",
              "      padding: 0 0 0 0;\n",
              "      width: 32px;\n",
              "    }\n",
              "\n",
              "    .colab-df-convert:hover {\n",
              "      background-color: #E2EBFA;\n",
              "      box-shadow: 0px 1px 2px rgba(60, 64, 67, 0.3), 0px 1px 3px 1px rgba(60, 64, 67, 0.15);\n",
              "      fill: #174EA6;\n",
              "    }\n",
              "\n",
              "    .colab-df-buttons div {\n",
              "      margin-bottom: 4px;\n",
              "    }\n",
              "\n",
              "    [theme=dark] .colab-df-convert {\n",
              "      background-color: #3B4455;\n",
              "      fill: #D2E3FC;\n",
              "    }\n",
              "\n",
              "    [theme=dark] .colab-df-convert:hover {\n",
              "      background-color: #434B5C;\n",
              "      box-shadow: 0px 1px 3px 1px rgba(0, 0, 0, 0.15);\n",
              "      filter: drop-shadow(0px 1px 2px rgba(0, 0, 0, 0.3));\n",
              "      fill: #FFFFFF;\n",
              "    }\n",
              "  </style>\n",
              "\n",
              "    <script>\n",
              "      const buttonEl =\n",
              "        document.querySelector('#df-805527f2-a184-459e-bc6d-71337f846dd2 button.colab-df-convert');\n",
              "      buttonEl.style.display =\n",
              "        google.colab.kernel.accessAllowed ? 'block' : 'none';\n",
              "\n",
              "      async function convertToInteractive(key) {\n",
              "        const element = document.querySelector('#df-805527f2-a184-459e-bc6d-71337f846dd2');\n",
              "        const dataTable =\n",
              "          await google.colab.kernel.invokeFunction('convertToInteractive',\n",
              "                                                    [key], {});\n",
              "        if (!dataTable) return;\n",
              "\n",
              "        const docLinkHtml = 'Like what you see? Visit the ' +\n",
              "          '<a target=\"_blank\" href=https://colab.research.google.com/notebooks/data_table.ipynb>data table notebook</a>'\n",
              "          + ' to learn more about interactive tables.';\n",
              "        element.innerHTML = '';\n",
              "        dataTable['output_type'] = 'display_data';\n",
              "        await google.colab.output.renderOutput(dataTable, element);\n",
              "        const docLink = document.createElement('div');\n",
              "        docLink.innerHTML = docLinkHtml;\n",
              "        element.appendChild(docLink);\n",
              "      }\n",
              "    </script>\n",
              "  </div>\n",
              "\n",
              "\n",
              "    <div id=\"df-36cd82c1-f70c-4e38-8db7-1eba0a9ca99c\">\n",
              "      <button class=\"colab-df-quickchart\" onclick=\"quickchart('df-36cd82c1-f70c-4e38-8db7-1eba0a9ca99c')\"\n",
              "                title=\"Suggest charts\"\n",
              "                style=\"display:none;\">\n",
              "\n",
              "<svg xmlns=\"http://www.w3.org/2000/svg\" height=\"24px\"viewBox=\"0 0 24 24\"\n",
              "     width=\"24px\">\n",
              "    <g>\n",
              "        <path d=\"M19 3H5c-1.1 0-2 .9-2 2v14c0 1.1.9 2 2 2h14c1.1 0 2-.9 2-2V5c0-1.1-.9-2-2-2zM9 17H7v-7h2v7zm4 0h-2V7h2v10zm4 0h-2v-4h2v4z\"/>\n",
              "    </g>\n",
              "</svg>\n",
              "      </button>\n",
              "\n",
              "<style>\n",
              "  .colab-df-quickchart {\n",
              "      --bg-color: #E8F0FE;\n",
              "      --fill-color: #1967D2;\n",
              "      --hover-bg-color: #E2EBFA;\n",
              "      --hover-fill-color: #174EA6;\n",
              "      --disabled-fill-color: #AAA;\n",
              "      --disabled-bg-color: #DDD;\n",
              "  }\n",
              "\n",
              "  [theme=dark] .colab-df-quickchart {\n",
              "      --bg-color: #3B4455;\n",
              "      --fill-color: #D2E3FC;\n",
              "      --hover-bg-color: #434B5C;\n",
              "      --hover-fill-color: #FFFFFF;\n",
              "      --disabled-bg-color: #3B4455;\n",
              "      --disabled-fill-color: #666;\n",
              "  }\n",
              "\n",
              "  .colab-df-quickchart {\n",
              "    background-color: var(--bg-color);\n",
              "    border: none;\n",
              "    border-radius: 50%;\n",
              "    cursor: pointer;\n",
              "    display: none;\n",
              "    fill: var(--fill-color);\n",
              "    height: 32px;\n",
              "    padding: 0;\n",
              "    width: 32px;\n",
              "  }\n",
              "\n",
              "  .colab-df-quickchart:hover {\n",
              "    background-color: var(--hover-bg-color);\n",
              "    box-shadow: 0 1px 2px rgba(60, 64, 67, 0.3), 0 1px 3px 1px rgba(60, 64, 67, 0.15);\n",
              "    fill: var(--button-hover-fill-color);\n",
              "  }\n",
              "\n",
              "  .colab-df-quickchart-complete:disabled,\n",
              "  .colab-df-quickchart-complete:disabled:hover {\n",
              "    background-color: var(--disabled-bg-color);\n",
              "    fill: var(--disabled-fill-color);\n",
              "    box-shadow: none;\n",
              "  }\n",
              "\n",
              "  .colab-df-spinner {\n",
              "    border: 2px solid var(--fill-color);\n",
              "    border-color: transparent;\n",
              "    border-bottom-color: var(--fill-color);\n",
              "    animation:\n",
              "      spin 1s steps(1) infinite;\n",
              "  }\n",
              "\n",
              "  @keyframes spin {\n",
              "    0% {\n",
              "      border-color: transparent;\n",
              "      border-bottom-color: var(--fill-color);\n",
              "      border-left-color: var(--fill-color);\n",
              "    }\n",
              "    20% {\n",
              "      border-color: transparent;\n",
              "      border-left-color: var(--fill-color);\n",
              "      border-top-color: var(--fill-color);\n",
              "    }\n",
              "    30% {\n",
              "      border-color: transparent;\n",
              "      border-left-color: var(--fill-color);\n",
              "      border-top-color: var(--fill-color);\n",
              "      border-right-color: var(--fill-color);\n",
              "    }\n",
              "    40% {\n",
              "      border-color: transparent;\n",
              "      border-right-color: var(--fill-color);\n",
              "      border-top-color: var(--fill-color);\n",
              "    }\n",
              "    60% {\n",
              "      border-color: transparent;\n",
              "      border-right-color: var(--fill-color);\n",
              "    }\n",
              "    80% {\n",
              "      border-color: transparent;\n",
              "      border-right-color: var(--fill-color);\n",
              "      border-bottom-color: var(--fill-color);\n",
              "    }\n",
              "    90% {\n",
              "      border-color: transparent;\n",
              "      border-bottom-color: var(--fill-color);\n",
              "    }\n",
              "  }\n",
              "</style>\n",
              "\n",
              "      <script>\n",
              "        async function quickchart(key) {\n",
              "          const quickchartButtonEl =\n",
              "            document.querySelector('#' + key + ' button');\n",
              "          quickchartButtonEl.disabled = true;  // To prevent multiple clicks.\n",
              "          quickchartButtonEl.classList.add('colab-df-spinner');\n",
              "          try {\n",
              "            const charts = await google.colab.kernel.invokeFunction(\n",
              "                'suggestCharts', [key], {});\n",
              "          } catch (error) {\n",
              "            console.error('Error during call to suggestCharts:', error);\n",
              "          }\n",
              "          quickchartButtonEl.classList.remove('colab-df-spinner');\n",
              "          quickchartButtonEl.classList.add('colab-df-quickchart-complete');\n",
              "        }\n",
              "        (() => {\n",
              "          let quickchartButtonEl =\n",
              "            document.querySelector('#df-36cd82c1-f70c-4e38-8db7-1eba0a9ca99c button');\n",
              "          quickchartButtonEl.style.display =\n",
              "            google.colab.kernel.accessAllowed ? 'block' : 'none';\n",
              "        })();\n",
              "      </script>\n",
              "    </div>\n",
              "\n",
              "    </div>\n",
              "  </div>\n"
            ],
            "application/vnd.google.colaboratory.intrinsic+json": {
              "type": "dataframe",
              "summary": "{\n  \"name\": \"df\",\n  \"rows\": 5,\n  \"fields\": [\n    {\n      \"column\": \"product_id\",\n      \"properties\": {\n        \"dtype\": \"string\",\n        \"num_unique_values\": 5,\n        \"samples\": [\n          \"B00NFD0ETQ\",\n          \"B00YMJ0OI8\",\n          \"B097R2V1W8\"\n        ],\n        \"semantic_type\": \"\",\n        \"description\": \"\"\n      }\n    },\n    {\n      \"column\": \"product_name\",\n      \"properties\": {\n        \"dtype\": \"string\",\n        \"num_unique_values\": 5,\n        \"samples\": [\n          \"Logitech G402 Hyperion Fury USB Wired Gaming Mouse, 4,000 DPI, Lightweight, 8 Programmable Buttons, Compatible for PC/Mac - Black\",\n          \"Prestige PIC 20 1600 Watt Induction Cooktop with Push button (Black)\",\n          \"Bajaj Splendora 3 Litre 3KW IWH Instant Water Heater (Geyser), White\"\n        ],\n        \"semantic_type\": \"\",\n        \"description\": \"\"\n      }\n    },\n    {\n      \"column\": \"Major Category\",\n      \"properties\": {\n        \"dtype\": \"category\",\n        \"num_unique_values\": 2,\n        \"samples\": [\n          \"Computers&Accessories\",\n          \"Home&Kitchen\"\n        ],\n        \"semantic_type\": \"\",\n        \"description\": \"\"\n      }\n    },\n    {\n      \"column\": \"Sub Category\",\n      \"properties\": {\n        \"dtype\": \"string\",\n        \"num_unique_values\": 5,\n        \"samples\": [\n          \"GamingMice\",\n          \"InductionCooktop\"\n        ],\n        \"semantic_type\": \"\",\n        \"description\": \"\"\n      }\n    },\n    {\n      \"column\": \"discounted_price\",\n      \"properties\": {\n        \"dtype\": \"string\",\n        \"num_unique_values\": 5,\n        \"samples\": [\n          \"\\u20b91,995\",\n          \"\\u20b92,148\"\n        ],\n        \"semantic_type\": \"\",\n        \"description\": \"\"\n      }\n    },\n    {\n      \"column\": \"actual_price\",\n      \"properties\": {\n        \"dtype\": \"string\",\n        \"num_unique_values\": 5,\n        \"samples\": [\n          \"\\u20b92,895\",\n          \"\\u20b93,645\"\n        ],\n        \"semantic_type\": \"\",\n        \"description\": \"\"\n      }\n    },\n    {\n      \"column\": \"discount_percentage\",\n      \"properties\": {\n        \"dtype\": \"string\",\n        \"num_unique_values\": 5,\n        \"samples\": [\n          \"31%\",\n          \"41%\"\n        ],\n        \"semantic_type\": \"\",\n        \"description\": \"\"\n      }\n    },\n    {\n      \"column\": \"user_id\",\n      \"properties\": {\n        \"dtype\": \"string\",\n        \"num_unique_values\": 5,\n        \"samples\": [\n          \"AGFIU57KQ27B2HIIHLNRXEX4LD3A\",\n          \"AFY52SCGUVXVGOTEYS4SI2DNI6LA\"\n        ],\n        \"semantic_type\": \"\",\n        \"description\": \"\"\n      }\n    },\n    {\n      \"column\": \"user_name\",\n      \"properties\": {\n        \"dtype\": \"string\",\n        \"num_unique_values\": 5,\n        \"samples\": [\n          \"parin patel\",\n          \"Saravana r.\"\n        ],\n        \"semantic_type\": \"\",\n        \"description\": \"\"\n      }\n    },\n    {\n      \"column\": \"review_id\",\n      \"properties\": {\n        \"dtype\": \"string\",\n        \"num_unique_values\": 5,\n        \"samples\": [\n          \"R2W6BKEVXNT3N\",\n          \"R14ACX2RTXLHYX\"\n        ],\n        \"semantic_type\": \"\",\n        \"description\": \"\"\n      }\n    },\n    {\n      \"column\": \"rating\",\n      \"properties\": {\n        \"dtype\": \"string\",\n        \"num_unique_values\": 3,\n        \"samples\": [\n          \"4\",\n          \"4.6\"\n        ],\n        \"semantic_type\": \"\",\n        \"description\": \"\"\n      }\n    },\n    {\n      \"column\": \"rating_count\",\n      \"properties\": {\n        \"dtype\": \"string\",\n        \"num_unique_values\": 5,\n        \"samples\": [\n          \"10,760\",\n          \"31,388\"\n        ],\n        \"semantic_type\": \"\",\n        \"description\": \"\"\n      }\n    },\n    {\n      \"column\": \"review_text\",\n      \"properties\": {\n        \"dtype\": \"string\",\n        \"num_unique_values\": 5,\n        \"samples\": [\n          \"good mouse good mouse overall price is little high\",\n          \"nice easytouse\"\n        ],\n        \"semantic_type\": \"\",\n        \"description\": \"\"\n      }\n    },\n    {\n      \"column\": \"sentiment_score\",\n      \"properties\": {\n        \"dtype\": \"number\",\n        \"std\": 0.22755871110550788,\n        \"min\": 0.2484,\n        \"max\": 0.7684,\n        \"num_unique_values\": 5,\n        \"samples\": [\n          0.7003,\n          0.4215\n        ],\n        \"semantic_type\": \"\",\n        \"description\": \"\"\n      }\n    }\n  ]\n}"
            }
          },
          "metadata": {},
          "execution_count": 144
        }
      ]
    },
    {
      "cell_type": "markdown",
      "source": [
        "## Text Vectorization"
      ],
      "metadata": {
        "id": "g9pKJSwqLj94"
      }
    },
    {
      "cell_type": "code",
      "source": [
        "from sklearn.feature_extraction.text import TfidfVectorizer\n",
        "tfidf = TfidfVectorizer(stop_words='english')\n",
        "\n",
        "tfidf.fit(neg_df['review_text'])\n",
        "required_text  = tfidf.transform(neg_df['review_text'])"
      ],
      "metadata": {
        "id": "80jd0Pl0LnJR"
      },
      "execution_count": 145,
      "outputs": []
    },
    {
      "cell_type": "code",
      "source": [
        "required_text"
      ],
      "metadata": {
        "colab": {
          "base_uri": "https://localhost:8080/"
        },
        "id": "jV0bi3CfMVnT",
        "outputId": "72859205-d15a-44d3-e8bb-ed7923b62f2a"
      },
      "execution_count": 146,
      "outputs": [
        {
          "output_type": "execute_result",
          "data": {
            "text/plain": [
              "<Compressed Sparse Row sparse matrix of dtype 'float64'\n",
              "\twith 5208 stored elements and shape (503, 1865)>"
            ]
          },
          "metadata": {},
          "execution_count": 146
        }
      ]
    },
    {
      "cell_type": "code",
      "source": [
        "neg_df.sample(1)"
      ],
      "metadata": {
        "colab": {
          "base_uri": "https://localhost:8080/",
          "height": 170
        },
        "id": "JQJGbEoVMgwy",
        "outputId": "342c42dc-981a-4c66-f3a2-b9edcbd532c3"
      },
      "execution_count": 147,
      "outputs": [
        {
          "output_type": "execute_result",
          "data": {
            "text/plain": [
              "     product_id                                       product_name  \\\n",
              "412  B099K9ZX65  Hisense 108 cm (43 inches) 4K Ultra HD Smart C...   \n",
              "\n",
              "    Major Category      Sub Category discounted_price actual_price  \\\n",
              "412    Electronics  SmartTelevisions          ₹20,990      ₹44,990   \n",
              "\n",
              "    discount_percentage                       user_id      user_name  \\\n",
              "412                 53%  AHFQGP45QKIEFKYOCYUH4DP63XGQ  Gautam Jethwa   \n",
              "\n",
              "          review_id rating rating_count  \\\n",
              "412  R1Z33CAT0B5EQM    4.1        1,259   \n",
              "\n",
              "                                           review_text  sentiment_score  \n",
              "412  good size for small leaving room of 1896 redmi...          -0.6772  "
            ],
            "text/html": [
              "\n",
              "  <div id=\"df-72e294b9-4ae2-4b11-9ad0-8a2f768207af\" class=\"colab-df-container\">\n",
              "    <div>\n",
              "<style scoped>\n",
              "    .dataframe tbody tr th:only-of-type {\n",
              "        vertical-align: middle;\n",
              "    }\n",
              "\n",
              "    .dataframe tbody tr th {\n",
              "        vertical-align: top;\n",
              "    }\n",
              "\n",
              "    .dataframe thead th {\n",
              "        text-align: right;\n",
              "    }\n",
              "</style>\n",
              "<table border=\"1\" class=\"dataframe\">\n",
              "  <thead>\n",
              "    <tr style=\"text-align: right;\">\n",
              "      <th></th>\n",
              "      <th>product_id</th>\n",
              "      <th>product_name</th>\n",
              "      <th>Major Category</th>\n",
              "      <th>Sub Category</th>\n",
              "      <th>discounted_price</th>\n",
              "      <th>actual_price</th>\n",
              "      <th>discount_percentage</th>\n",
              "      <th>user_id</th>\n",
              "      <th>user_name</th>\n",
              "      <th>review_id</th>\n",
              "      <th>rating</th>\n",
              "      <th>rating_count</th>\n",
              "      <th>review_text</th>\n",
              "      <th>sentiment_score</th>\n",
              "    </tr>\n",
              "  </thead>\n",
              "  <tbody>\n",
              "    <tr>\n",
              "      <th>412</th>\n",
              "      <td>B099K9ZX65</td>\n",
              "      <td>Hisense 108 cm (43 inches) 4K Ultra HD Smart C...</td>\n",
              "      <td>Electronics</td>\n",
              "      <td>SmartTelevisions</td>\n",
              "      <td>₹20,990</td>\n",
              "      <td>₹44,990</td>\n",
              "      <td>53%</td>\n",
              "      <td>AHFQGP45QKIEFKYOCYUH4DP63XGQ</td>\n",
              "      <td>Gautam Jethwa</td>\n",
              "      <td>R1Z33CAT0B5EQM</td>\n",
              "      <td>4.1</td>\n",
              "      <td>1,259</td>\n",
              "      <td>good size for small leaving room of 1896 redmi...</td>\n",
              "      <td>-0.6772</td>\n",
              "    </tr>\n",
              "  </tbody>\n",
              "</table>\n",
              "</div>\n",
              "    <div class=\"colab-df-buttons\">\n",
              "\n",
              "  <div class=\"colab-df-container\">\n",
              "    <button class=\"colab-df-convert\" onclick=\"convertToInteractive('df-72e294b9-4ae2-4b11-9ad0-8a2f768207af')\"\n",
              "            title=\"Convert this dataframe to an interactive table.\"\n",
              "            style=\"display:none;\">\n",
              "\n",
              "  <svg xmlns=\"http://www.w3.org/2000/svg\" height=\"24px\" viewBox=\"0 -960 960 960\">\n",
              "    <path d=\"M120-120v-720h720v720H120Zm60-500h600v-160H180v160Zm220 220h160v-160H400v160Zm0 220h160v-160H400v160ZM180-400h160v-160H180v160Zm440 0h160v-160H620v160ZM180-180h160v-160H180v160Zm440 0h160v-160H620v160Z\"/>\n",
              "  </svg>\n",
              "    </button>\n",
              "\n",
              "  <style>\n",
              "    .colab-df-container {\n",
              "      display:flex;\n",
              "      gap: 12px;\n",
              "    }\n",
              "\n",
              "    .colab-df-convert {\n",
              "      background-color: #E8F0FE;\n",
              "      border: none;\n",
              "      border-radius: 50%;\n",
              "      cursor: pointer;\n",
              "      display: none;\n",
              "      fill: #1967D2;\n",
              "      height: 32px;\n",
              "      padding: 0 0 0 0;\n",
              "      width: 32px;\n",
              "    }\n",
              "\n",
              "    .colab-df-convert:hover {\n",
              "      background-color: #E2EBFA;\n",
              "      box-shadow: 0px 1px 2px rgba(60, 64, 67, 0.3), 0px 1px 3px 1px rgba(60, 64, 67, 0.15);\n",
              "      fill: #174EA6;\n",
              "    }\n",
              "\n",
              "    .colab-df-buttons div {\n",
              "      margin-bottom: 4px;\n",
              "    }\n",
              "\n",
              "    [theme=dark] .colab-df-convert {\n",
              "      background-color: #3B4455;\n",
              "      fill: #D2E3FC;\n",
              "    }\n",
              "\n",
              "    [theme=dark] .colab-df-convert:hover {\n",
              "      background-color: #434B5C;\n",
              "      box-shadow: 0px 1px 3px 1px rgba(0, 0, 0, 0.15);\n",
              "      filter: drop-shadow(0px 1px 2px rgba(0, 0, 0, 0.3));\n",
              "      fill: #FFFFFF;\n",
              "    }\n",
              "  </style>\n",
              "\n",
              "    <script>\n",
              "      const buttonEl =\n",
              "        document.querySelector('#df-72e294b9-4ae2-4b11-9ad0-8a2f768207af button.colab-df-convert');\n",
              "      buttonEl.style.display =\n",
              "        google.colab.kernel.accessAllowed ? 'block' : 'none';\n",
              "\n",
              "      async function convertToInteractive(key) {\n",
              "        const element = document.querySelector('#df-72e294b9-4ae2-4b11-9ad0-8a2f768207af');\n",
              "        const dataTable =\n",
              "          await google.colab.kernel.invokeFunction('convertToInteractive',\n",
              "                                                    [key], {});\n",
              "        if (!dataTable) return;\n",
              "\n",
              "        const docLinkHtml = 'Like what you see? Visit the ' +\n",
              "          '<a target=\"_blank\" href=https://colab.research.google.com/notebooks/data_table.ipynb>data table notebook</a>'\n",
              "          + ' to learn more about interactive tables.';\n",
              "        element.innerHTML = '';\n",
              "        dataTable['output_type'] = 'display_data';\n",
              "        await google.colab.output.renderOutput(dataTable, element);\n",
              "        const docLink = document.createElement('div');\n",
              "        docLink.innerHTML = docLinkHtml;\n",
              "        element.appendChild(docLink);\n",
              "      }\n",
              "    </script>\n",
              "  </div>\n",
              "\n",
              "\n",
              "    </div>\n",
              "  </div>\n"
            ],
            "application/vnd.google.colaboratory.intrinsic+json": {
              "type": "dataframe",
              "summary": "{\n  \"name\": \"neg_df\",\n  \"rows\": 1,\n  \"fields\": [\n    {\n      \"column\": \"product_id\",\n      \"properties\": {\n        \"dtype\": \"string\",\n        \"num_unique_values\": 1,\n        \"samples\": [\n          \"B099K9ZX65\"\n        ],\n        \"semantic_type\": \"\",\n        \"description\": \"\"\n      }\n    },\n    {\n      \"column\": \"product_name\",\n      \"properties\": {\n        \"dtype\": \"string\",\n        \"num_unique_values\": 1,\n        \"samples\": [\n          \"Hisense 108 cm (43 inches) 4K Ultra HD Smart Certified Android LED TV 43A6GE (Black)\"\n        ],\n        \"semantic_type\": \"\",\n        \"description\": \"\"\n      }\n    },\n    {\n      \"column\": \"Major Category\",\n      \"properties\": {\n        \"dtype\": \"string\",\n        \"num_unique_values\": 1,\n        \"samples\": [\n          \"Electronics\"\n        ],\n        \"semantic_type\": \"\",\n        \"description\": \"\"\n      }\n    },\n    {\n      \"column\": \"Sub Category\",\n      \"properties\": {\n        \"dtype\": \"string\",\n        \"num_unique_values\": 1,\n        \"samples\": [\n          \"SmartTelevisions\"\n        ],\n        \"semantic_type\": \"\",\n        \"description\": \"\"\n      }\n    },\n    {\n      \"column\": \"discounted_price\",\n      \"properties\": {\n        \"dtype\": \"string\",\n        \"num_unique_values\": 1,\n        \"samples\": [\n          \"\\u20b920,990\"\n        ],\n        \"semantic_type\": \"\",\n        \"description\": \"\"\n      }\n    },\n    {\n      \"column\": \"actual_price\",\n      \"properties\": {\n        \"dtype\": \"string\",\n        \"num_unique_values\": 1,\n        \"samples\": [\n          \"\\u20b944,990\"\n        ],\n        \"semantic_type\": \"\",\n        \"description\": \"\"\n      }\n    },\n    {\n      \"column\": \"discount_percentage\",\n      \"properties\": {\n        \"dtype\": \"string\",\n        \"num_unique_values\": 1,\n        \"samples\": [\n          \"53%\"\n        ],\n        \"semantic_type\": \"\",\n        \"description\": \"\"\n      }\n    },\n    {\n      \"column\": \"user_id\",\n      \"properties\": {\n        \"dtype\": \"string\",\n        \"num_unique_values\": 1,\n        \"samples\": [\n          \"AHFQGP45QKIEFKYOCYUH4DP63XGQ\"\n        ],\n        \"semantic_type\": \"\",\n        \"description\": \"\"\n      }\n    },\n    {\n      \"column\": \"user_name\",\n      \"properties\": {\n        \"dtype\": \"string\",\n        \"num_unique_values\": 1,\n        \"samples\": [\n          \"Gautam Jethwa\"\n        ],\n        \"semantic_type\": \"\",\n        \"description\": \"\"\n      }\n    },\n    {\n      \"column\": \"review_id\",\n      \"properties\": {\n        \"dtype\": \"string\",\n        \"num_unique_values\": 1,\n        \"samples\": [\n          \"R1Z33CAT0B5EQM\"\n        ],\n        \"semantic_type\": \"\",\n        \"description\": \"\"\n      }\n    },\n    {\n      \"column\": \"rating\",\n      \"properties\": {\n        \"dtype\": \"string\",\n        \"num_unique_values\": 1,\n        \"samples\": [\n          \"4.1\"\n        ],\n        \"semantic_type\": \"\",\n        \"description\": \"\"\n      }\n    },\n    {\n      \"column\": \"rating_count\",\n      \"properties\": {\n        \"dtype\": \"string\",\n        \"num_unique_values\": 1,\n        \"samples\": [\n          \"1,259\"\n        ],\n        \"semantic_type\": \"\",\n        \"description\": \"\"\n      }\n    },\n    {\n      \"column\": \"review_text\",\n      \"properties\": {\n        \"dtype\": \"string\",\n        \"num_unique_values\": 1,\n        \"samples\": [\n          \"good size for small leaving room of 1896 redmi nokia and iffalcon but didnt like the 32 inch tv suddenly out of the blue on thursday that is on 20 october i saw this blowing offer on hisense vivid 4k tv but scared to buy\"\n        ],\n        \"semantic_type\": \"\",\n        \"description\": \"\"\n      }\n    },\n    {\n      \"column\": \"sentiment_score\",\n      \"properties\": {\n        \"dtype\": \"number\",\n        \"std\": null,\n        \"min\": -0.6772,\n        \"max\": -0.6772,\n        \"num_unique_values\": 1,\n        \"samples\": [\n          -0.6772\n        ],\n        \"semantic_type\": \"\",\n        \"description\": \"\"\n      }\n    }\n  ]\n}"
            }
          },
          "metadata": {},
          "execution_count": 147
        }
      ]
    },
    {
      "cell_type": "markdown",
      "source": [
        "## Forming Clusters"
      ],
      "metadata": {
        "id": "Ain61GskMk_Q"
      }
    },
    {
      "cell_type": "code",
      "source": [
        "from sklearn.cluster import KMeans\n",
        "\n",
        "kmeans = KMeans(n_clusters=3, random_state=0)  # Try different k\n",
        "neg_df['cluster'] = kmeans.fit_predict(required_text)"
      ],
      "metadata": {
        "id": "4l_c59ZNPt7r"
      },
      "execution_count": 148,
      "outputs": []
    },
    {
      "cell_type": "code",
      "source": [
        "print(neg_df['cluster'].value_counts())"
      ],
      "metadata": {
        "colab": {
          "base_uri": "https://localhost:8080/"
        },
        "id": "Eo5SbYRpQhUN",
        "outputId": "3a797707-ec1a-490e-bd6b-4e8ee42ba82d"
      },
      "execution_count": 149,
      "outputs": [
        {
          "output_type": "stream",
          "name": "stdout",
          "text": [
            "cluster\n",
            "0    348\n",
            "1    113\n",
            "2     42\n",
            "Name: count, dtype: int64\n"
          ]
        }
      ]
    },
    {
      "cell_type": "code",
      "source": [
        "from sklearn.decomposition import PCA\n",
        "# Reduce to 2D\n",
        "X_reduced = PCA(n_components=2).fit_transform(required_text.toarray())\n",
        "\n",
        "# Plot\n",
        "plt.figure(figsize=(8,6))\n",
        "plt.scatter(X_reduced[:, 0], X_reduced[:, 1], c=neg_df['cluster'], cmap='viridis', s=10)\n",
        "plt.title(\"KMeans Clustering of Negative Reviews\")\n",
        "plt.xlabel(\"PC1\")\n",
        "plt.ylabel(\"PC2\")\n",
        "plt.colorbar(label='Cluster')\n",
        "plt.show()"
      ],
      "metadata": {
        "colab": {
          "base_uri": "https://localhost:8080/",
          "height": 564
        },
        "id": "-cg95eMoQucK",
        "outputId": "96ce264f-4c9b-4e6f-85b0-5ffa2a832527"
      },
      "execution_count": 150,
      "outputs": [
        {
          "output_type": "display_data",
          "data": {
            "text/plain": [
              "<Figure size 800x600 with 2 Axes>"
            ],
            "image/png": "[encoded data removed]"
          },
          "metadata": {}
        }
      ]
    },
    {
      "cell_type": "markdown",
      "source": [
        "## Train Test Split"
      ],
      "metadata": {
        "id": "U6HBMrPkR2Vi"
      }
    },
    {
      "cell_type": "code",
      "source": [
        "from sklearn.neighbors import KNeighborsClassifier\n",
        "from sklearn.model_selection import train_test_split\n",
        "\n",
        "X_train, X_test, y_train, y_test = train_test_split(required_text, neg_df['cluster'], test_size=0.2)\n",
        "knn = KNeighborsClassifier(n_neighbors=5)\n",
        "knn.fit(X_train, y_train)\n",
        "y_pred = knn.predict(X_test)\n",
        "print(knn.score(X_test, y_test))"
      ],
      "metadata": {
        "colab": {
          "base_uri": "https://localhost:8080/"
        },
        "id": "HvV63rjYRRp5",
        "outputId": "f07b7814-8600-4234-fbea-a51967e1aa77"
      },
      "execution_count": 151,
      "outputs": [
        {
          "output_type": "stream",
          "name": "stdout",
          "text": [
            "0.7821782178217822\n"
          ]
        }
      ]
    },
    {
      "cell_type": "markdown",
      "source": [
        "## Cluster Values"
      ],
      "metadata": {
        "id": "XQcSH9X6TAg_"
      }
    },
    {
      "cell_type": "code",
      "source": [
        "import numpy as np\n",
        "\n",
        "def get_top_keywords(kmeans_model, vectorizer, n_terms=10):\n",
        "    terms = vectorizer.get_feature_names_out()\n",
        "    for i, center in enumerate(kmeans_model.cluster_centers_):\n",
        "        print(f\"\\nCluster {i} top words:\")\n",
        "        top_indices = center.argsort()[-n_terms:][::-1]\n",
        "        print(\", \".join([terms[idx] for idx in top_indices]))\n",
        "\n",
        "get_top_keywords(kmeans, tfidf)"
      ],
      "metadata": {
        "colab": {
          "base_uri": "https://localhost:8080/"
        },
        "id": "APbZQAF7SxHm",
        "outputId": "fb0d1f9c-72c5-4d5a-eef1-9e1eedf1e912"
      },
      "execution_count": 152,
      "outputs": [
        {
          "output_type": "stream",
          "name": "stdout",
          "text": [
            "\n",
            "Cluster 0 top words:\n",
            "good, quality, working, wa, just, cable, use, bad, like, got\n",
            "\n",
            "Cluster 1 top words:\n",
            "product, good, bad, quality, wa, buy, worst, poor, average, working\n",
            "\n",
            "Cluster 2 top words:\n",
            "charging, sturdy, doe, support, cable, 33w, product, fast, good, working\n"
          ]
        }
      ]
    }
  ]
}